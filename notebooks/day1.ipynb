{
 "cells": [
  {
   "cell_type": "code",
   "execution_count": 1,
   "metadata": {},
   "outputs": [],
   "source": [
    "import re"
   ]
  },
  {
   "cell_type": "markdown",
   "metadata": {},
   "source": [
    "### Part 1"
   ]
  },
  {
   "cell_type": "code",
   "execution_count": 2,
   "metadata": {},
   "outputs": [],
   "source": [
    "def extract_calibration_val(string: str) -> int:\n",
    "    digits = re.findall(r'\\d', string)\n",
    "    first_and_last_digit = [digits[0], digits[-1]]\n",
    "    return int(\"\".join(first_and_last_digit))\n",
    "\n",
    "\n",
    "def sum_calibration_values(calibration_document: list[str]) -> int:\n",
    "    return sum(extract_calibration_val(d) for d in calibration_document)"
   ]
  },
  {
   "cell_type": "code",
   "execution_count": 3,
   "metadata": {},
   "outputs": [
    {
     "name": "stdout",
     "output_type": "stream",
     "text": [
      "The sum is 55488.\n"
     ]
    }
   ],
   "source": [
    "# main\n",
    "\n",
    "with open(\"../data/day1.txt\") as f:\n",
    "    calibration_documents = f.read().splitlines()\n",
    "\n",
    "answer = sum_calibration_values(calibration_documents)\n",
    "\n",
    "print(f\"The sum is {answer}.\")"
   ]
  },
  {
   "cell_type": "markdown",
   "metadata": {},
   "source": [
    "### Part 2"
   ]
  },
  {
   "cell_type": "code",
   "execution_count": 4,
   "metadata": {},
   "outputs": [],
   "source": [
    "spelled_out_digits = {\n",
    "    \"one\": \"1\",\n",
    "    \"two\": \"2\",\n",
    "    \"three\": \"3\",\n",
    "    \"four\": \"4\",\n",
    "    \"five\": \"5\", \n",
    "    \"six\": \"6\",\n",
    "    \"seven\": \"7\",\n",
    "    \"eight\": \"8\",\n",
    "    \"nine\": \"9\",\n",
    "    \"\\d\": None,\n",
    "}"
   ]
  },
  {
   "cell_type": "code",
   "execution_count": 5,
   "metadata": {},
   "outputs": [],
   "source": [
    "def extract_calibration_val_part2(string):\n",
    "    pattern = \"|\".join(spelled_out_digits)\n",
    "    digits_mixed_types = re.findall(rf\"(?=({pattern}))\", string)\n",
    "    digits_int_types = list(map(lambda x: x if x.isdigit() else spelled_out_digits[x], digits_mixed_types))\n",
    "    first_and_last_digit = [digits_int_types[0], digits_int_types[-1]]\n",
    "    return int(\"\".join(first_and_last_digit))\n",
    "\n",
    "\n",
    "def sum_calibration_values_part2(calibration_documents: list[str]) -> int:\n",
    "    return sum(map(extract_calibration_val_part2, calibration_documents))"
   ]
  },
  {
   "cell_type": "code",
   "execution_count": 6,
   "metadata": {},
   "outputs": [
    {
     "name": "stdout",
     "output_type": "stream",
     "text": [
      "Answer:  55614\n"
     ]
    }
   ],
   "source": [
    "# main\n",
    "\n",
    "with open(\"../data/day1.txt\") as f:\n",
    "    calibration_documents = f.read().splitlines()\n",
    "\n",
    "answer = sum_calibration_values_part2(calibration_documents)\n",
    "\n",
    "print(\"Answer: \", answer)"
   ]
  }
 ],
 "metadata": {
  "kernelspec": {
   "display_name": "Python 3",
   "language": "python",
   "name": "python3"
  },
  "language_info": {
   "codemirror_mode": {
    "name": "ipython",
    "version": 3
   },
   "file_extension": ".py",
   "mimetype": "text/x-python",
   "name": "python",
   "nbconvert_exporter": "python",
   "pygments_lexer": "ipython3",
   "version": "3.11.6"
  }
 },
 "nbformat": 4,
 "nbformat_minor": 2
}
